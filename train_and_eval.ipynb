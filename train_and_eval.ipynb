{
 "cells": [
  {
   "cell_type": "code",
   "execution_count": 1,
   "id": "b22c88ba",
   "metadata": {},
   "outputs": [],
   "source": [
    "import torch\n",
    "import torch.nn as nn\n",
    "import torch.optim as optim\n",
    "from torchvision import datasets, transforms\n",
    "from torch.utils.data import DataLoader, random_split\n",
    "\n",
    "from utils.MNIST_loaders import MNIST_loaders\n",
    "\n",
    "from functions.train import train\n",
    "from functions.evaluate import evaluate\n",
    "\n",
    "from models.HypernetClassifier import HyperNetClassifier\n",
    "from models.Classifier import Classifier"
   ]
  },
  {
   "cell_type": "code",
   "execution_count": 2,
   "id": "d0e57248",
   "metadata": {},
   "outputs": [],
   "source": [
    "# --- Hyperparameters (things you can easily change!) ---\n",
    "num_epochs = 5\n",
    "batch_size = 64\n",
    "weight_decay = 0.001\n",
    "validation_split = 0.2  # Part of the training data to use for validation\n",
    "random_seed = 42\n",
    "n_bins = 10 # Number of bins for calculating ECE\n",
    "input_size = 28 * 28\n",
    "output_size = 10\n",
    "\n",
    "learning_rate = 0.00001\n",
    "optimizer = 'Adam'\n",
    "hidden_size = [256, 128, 256]\n",
    "zeroed_weights_in_baseline = 0.5\n",
    "hypernet_ensemble_num = 10"
   ]
  },
  {
   "cell_type": "code",
   "execution_count": 3,
   "id": "54f26b34",
   "metadata": {},
   "outputs": [],
   "source": [
    "torch.manual_seed(random_seed)\n",
    "\n",
    "device = torch.device('cuda' if torch.cuda.is_available() else 'cpu')"
   ]
  },
  {
   "cell_type": "code",
   "execution_count": 4,
   "id": "f8f0c85d",
   "metadata": {},
   "outputs": [
    {
     "name": "stdout",
     "output_type": "stream",
     "text": [
      "Starting Training [A: Accuracy, L: Loss, ECE: Expected Calibration Error, H: Hypernet]\n",
      "\n",
      "=== Epoch: [1|5] ========================\n",
      "Train: L: 2.2141, H_L: 29.0413, A: 19.79%, H_A: 11.18%\n",
      "Val: A: 29.06%, A_H: 13.77%, ECE: 0.11408, ECE_H: 0.62075\n",
      "\n",
      "=== Epoch: [2|5] ========================\n",
      "Train: L: 2.0028, H_L: 20.4021, A: 37.21%, H_A: 25.60%\n",
      "Val: A: 44.71%, A_H: 42.48%, ECE: 0.25116, ECE_H: 0.39134\n",
      "\n",
      "=== Epoch: [3|5] ========================\n",
      "Train: L: 1.8275, H_L: 10.5531, A: 49.60%, H_A: 55.80%\n",
      "Val: A: 54.50%, A_H: 63.50%, ECE: 0.31871, ECE_H: 0.22519\n",
      "\n",
      "=== Epoch: [4|5] ========================\n",
      "Train: L: 1.6736, H_L: 8.1213, A: 57.87%, H_A: 68.06%\n",
      "Val: A: 60.85%, A_H: 70.17%, ECE: 0.35196, ECE_H: 0.17156\n",
      "\n",
      "=== Epoch: [5|5] ========================\n",
      "Train: L: 1.5394, H_L: 7.2429, A: 62.91%, H_A: 72.94%\n",
      "Val: A: 64.29%, A_H: 73.99%, ECE: 0.35267, ECE_H: 0.14533\n"
     ]
    }
   ],
   "source": [
    "model = Classifier(input_size, output_size, zeroed_weights_fraction=zeroed_weights_in_baseline)\n",
    "hypernet_model = HyperNetClassifier(input_size, output_size, hidden_sizes=hidden_size, device=device)\n",
    "\n",
    "if optimizer == 'SGD':\n",
    "    optimizer = optim.SGD(model.parameters(), lr=learning_rate, weight_decay=weight_decay)\n",
    "    hypernet_optimizer = optim.SGD(hypernet_model.parameters(), lr=learning_rate, weight_decay=weight_decay)\n",
    "else:\n",
    "    optimizer = optim.Adam(model.parameters(), lr=learning_rate, weight_decay=weight_decay)\n",
    "    hypernet_optimizer = optim.Adam(hypernet_model.parameters(), lr=learning_rate, weight_decay=weight_decay)\n",
    "    \n",
    "train_loader, val_loader, test_loader = MNIST_loaders()\n",
    "\n",
    "print(\"Starting Training [A: Accuracy, L: Loss, ECE: Expected Calibration Error, H: Hypernet]\")\n",
    "for epoch in range(1, num_epochs + 1):\n",
    "    \n",
    "    print(f\"\\n=== Epoch: [{epoch}|{num_epochs}] ========================\")\n",
    "    \n",
    "    avg_loss, avg_hypernet_loss, accuracy, hypernet_accuracy = train(model, hypernet_model, train_loader, optimizer, hypernet_optimizer, device=device)\n",
    "    print(f'Train: L: {avg_loss:.4f}, H_L: {avg_hypernet_loss:.4f}, A: {accuracy:.2f}%, H_A: {hypernet_accuracy:.2f}%')\n",
    "    \n",
    "    val_accuracy, ece = evaluate(model, val_loader, n_bins=n_bins, device=device)\n",
    "    hypernet_val_accuracy, hypernet_ece = evaluate(hypernet_model, val_loader, device=device)\n",
    "    print(f'Val: A: {val_accuracy:.2f}%, A_H: {hypernet_val_accuracy:.2f}%, ECE: {ece:.5f}, ECE_H: {hypernet_ece:.5f}')"
   ]
  },
  {
   "cell_type": "code",
   "execution_count": 6,
   "id": "554bd387",
   "metadata": {},
   "outputs": [
    {
     "name": "stdout",
     "output_type": "stream",
     "text": [
      "\n",
      "Starting Testing...\n",
      "Normal Model:\n",
      "Test set: Accuracy: 65.26%, ECE: 0.35863\n",
      "Hypernet Model:\n",
      "Test set: Accuracy: 75.23%, ECE: 0.13739\n"
     ]
    }
   ],
   "source": [
    "# --- Testing the Model ---\n",
    "print(\"\\nStarting Testing...\")\n",
    "\n",
    "print(\"Normal Model:\")\n",
    "test_accuracy, ece = evaluate(model, test_loader, n_bins=n_bins, device=device)\n",
    "print(f'Test set: Accuracy: {test_accuracy:.2f}%, ECE: {ece:.5f}')\n",
    "\n",
    "print(\"Hypernet Model:\")\n",
    "test_accuracy, ece = evaluate(hypernet_model, test_loader, n_bins=n_bins, device=device)\n",
    "print(f'Test set: Accuracy: {test_accuracy:.2f}%, ECE: {ece:.5f}')"
   ]
  }
 ],
 "metadata": {
  "kernelspec": {
   "display_name": ".venv",
   "language": "python",
   "name": "python3"
  },
  "language_info": {
   "codemirror_mode": {
    "name": "ipython",
    "version": 3
   },
   "file_extension": ".py",
   "mimetype": "text/x-python",
   "name": "python",
   "nbconvert_exporter": "python",
   "pygments_lexer": "ipython3",
   "version": "3.10.11"
  }
 },
 "nbformat": 4,
 "nbformat_minor": 5
}
