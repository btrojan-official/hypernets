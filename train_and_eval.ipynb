{
 "cells": [
  {
   "cell_type": "code",
   "execution_count": 1,
   "id": "b22c88ba",
   "metadata": {},
   "outputs": [],
   "source": [
    "import torch\n",
    "import torch.nn as nn\n",
    "import torch.optim as optim\n",
    "from torchvision import datasets, transforms\n",
    "from torch.utils.data import DataLoader, random_split"
   ]
  },
  {
   "cell_type": "code",
   "execution_count": 2,
   "id": "e74ed05b",
   "metadata": {},
   "outputs": [],
   "source": [
    "device = torch.device('cuda' if torch.cuda.is_available() else 'cpu')"
   ]
  },
  {
   "cell_type": "code",
   "execution_count": 3,
   "id": "d0e57248",
   "metadata": {},
   "outputs": [],
   "source": [
    "# --- Hyperparameters (things you can easily change!) ---\n",
    "num_epochs = 10\n",
    "learning_rate = 0.01\n",
    "weight_decay = 0.001\n",
    "batch_size = 64\n",
    "validation_split = 0.2  # Percentage of the training data to use for validation\n",
    "random_seed = 42      # For making sure our splits are the same each time"
   ]
  },
  {
   "cell_type": "code",
   "execution_count": 4,
   "id": "54f26b34",
   "metadata": {},
   "outputs": [
    {
     "data": {
      "text/plain": [
       "<torch._C.Generator at 0x1af884cae50>"
      ]
     },
     "execution_count": 4,
     "metadata": {},
     "output_type": "execute_result"
    }
   ],
   "source": [
    "# Set the random seed for reproducibility\n",
    "torch.manual_seed(random_seed)"
   ]
  },
  {
   "cell_type": "code",
   "execution_count": 5,
   "id": "c1de5c1f",
   "metadata": {},
   "outputs": [],
   "source": [
    "# --- Preparing the Dataset and DataLoaders ---\n",
    "\n",
    "# Define the transformations to apply to the images\n",
    "# Here, we convert the images to PyTorch tensors and normalize the pixel values\n",
    "transform = transforms.Compose([\n",
    "    transforms.ToTensor(),\n",
    "    transforms.Normalize((0.1307,), (0.3081,))\n",
    "])\n",
    "\n",
    "# Download the MNIST dataset\n",
    "train_dataset = datasets.MNIST('./data', train=True, download=True, transform=transform)\n",
    "test_dataset = datasets.MNIST('./data', train=False, download=True, transform=transform)\n",
    "\n",
    "# Split the training dataset into training and validation sets\n",
    "train_size = int((1 - validation_split) * len(train_dataset))\n",
    "val_size = len(train_dataset) - train_size\n",
    "train_dataset, val_dataset = random_split(train_dataset, [train_size, val_size])\n",
    "\n",
    "# Create DataLoaders. These help us load the data in batches during training.\n",
    "train_loader = DataLoader(train_dataset, batch_size=batch_size, shuffle=True)\n",
    "val_loader = DataLoader(val_dataset, batch_size=batch_size, shuffle=False)\n",
    "test_loader = DataLoader(test_dataset, batch_size=batch_size, shuffle=False)"
   ]
  },
  {
   "cell_type": "code",
   "execution_count": 6,
   "id": "d1012917",
   "metadata": {},
   "outputs": [],
   "source": [
    "# --- Implementing the Simple Classifier ---\n",
    "\n",
    "class Classifier(nn.Module):\n",
    "    def __init__(self, input_size, output_size):\n",
    "        super(Classifier, self).__init__()\n",
    "        # This is a single linear layer (like a simple connection of all inputs to all outputs)\n",
    "        self.linear = nn.Linear(input_size, output_size, bias=False)\n",
    "\n",
    "    def forward(self, x):\n",
    "        # The input images are 28x28 pixels, so we need to flatten them into a single vector of 784 elements\n",
    "        x = x.view(-1, 28 * 28)\n",
    "        # Pass the flattened vector through the linear layer\n",
    "        x = self.linear(x)\n",
    "        return x"
   ]
  },
  {
   "cell_type": "code",
   "execution_count": 7,
   "id": "3ee607c0",
   "metadata": {},
   "outputs": [],
   "source": [
    "class HyperNetClassifier(nn.Module):\n",
    "    def __init__(self, input_size, output_size, hidden_sizes=[2400, 1200, 2400]):\n",
    "        super(HyperNetClassifier, self).__init__()\n",
    "        \n",
    "        self.input_size = input_size\n",
    "        self.output_size = output_size\n",
    "        \n",
    "        self.num_weights = input_size * output_size\n",
    "        \n",
    "        self.input_layer = nn.Linear(self.num_weights, hidden_sizes[0], bias=False)\n",
    "        self.hidden_1 = nn.Linear(hidden_sizes[0], hidden_sizes[1])\n",
    "        self.hidden_2 = nn.Linear(hidden_sizes[1], hidden_sizes[2])\n",
    "        self.output_layer = nn.Linear(hidden_sizes[2], self.num_weights, bias=False)\n",
    "\n",
    "    def forward(self, x):\n",
    "        x = x.view(-1, 28 * 28)\n",
    "\n",
    "        mask = (torch.rand(self.num_weights, requires_grad=False) >= 0.5).int().to(device)\n",
    "        hypernet_input = torch.randn(self.num_weights, requires_grad=True).to(device) * mask\n",
    "        \n",
    "        hypernet_output = torch.relu(self.input_layer(hypernet_input))\n",
    "        hypernet_output = torch.relu(self.hidden_1(hypernet_output))\n",
    "        hypernet_output = torch.relu(self.hidden_2(hypernet_output))\n",
    "        hypernet_output = self.output_layer(hypernet_output)\n",
    "\n",
    "        weights = torch.reshape(hypernet_output, (self.input_size, self.output_size))\n",
    "\n",
    "        return x @ weights"
   ]
  },
  {
   "cell_type": "code",
   "execution_count": 8,
   "id": "0016ab6f",
   "metadata": {},
   "outputs": [],
   "source": [
    "# --- Training Function ---\n",
    "\n",
    "def train(model, hypernet_model, train_loader, optimizer, hypernet_optimizer, epoch):\n",
    "    model.train()  # Set the model to training mode\n",
    "    hypernet_model.train()\n",
    "    \n",
    "    model = model.to(device)\n",
    "    hypernet_model = hypernet_model.to(device)\n",
    "    \n",
    "    total_loss = 0\n",
    "    correct = 0\n",
    "    \n",
    "    hypernet_total_loss = 0\n",
    "    hypernet_correct = 0\n",
    "    \n",
    "    total = 0\n",
    "    \n",
    "    for batch_idx, (data, target) in enumerate(train_loader):\n",
    "\n",
    "        optimizer.zero_grad()\n",
    "        hypernet_optimizer.zero_grad()\n",
    "        \n",
    "        data = data.to(device)\n",
    "        target = target.to(device)\n",
    "        \n",
    "        output = model(data)\n",
    "        hypernet_output = hypernet_model(data)\n",
    "\n",
    "        loss = nn.CrossEntropyLoss()(output, target)\n",
    "        hypernet_loss = nn.CrossEntropyLoss()(hypernet_output, target)\n",
    "\n",
    "        loss.backward()\n",
    "        hypernet_loss.backward()\n",
    "\n",
    "        optimizer.step()\n",
    "        hypernet_optimizer.step()\n",
    "\n",
    "        total_loss += loss.item()\n",
    "        hypernet_total_loss += hypernet_loss.item()\n",
    "        \n",
    "        _, predicted = torch.max(output.data, 1)\n",
    "        _, hypernet_predicted = torch.max(hypernet_output.data, 1)\n",
    "        \n",
    "        total += target.size(0)\n",
    "        \n",
    "        correct += (predicted == target).sum().item()\n",
    "        hypernet_correct += (hypernet_predicted == target).sum().item()\n",
    "\n",
    "        if (batch_idx + 1) % 100 == 0:\n",
    "            print(f'Train Epoch: {epoch} [{batch_idx * len(data)}/{len(train_loader.dataset)} '\n",
    "                  f'({100. * batch_idx / len(train_loader):.0f}%)]\\tLoss: {loss.item():.6f}. Hypernet Loss: {hypernet_loss.item():.6f}')\n",
    "\n",
    "    avg_loss = total_loss / len(train_loader)\n",
    "    avg_hypernet_loss = hypernet_total_loss / len(train_loader)\n",
    "    \n",
    "    accuracy = 100. * correct / total\n",
    "    hypernet_accuracy = 100. * hypernet_correct / total\n",
    "    \n",
    "    print(f'Train Epoch: {epoch} Average Loss: {avg_loss:.4f}, Average Hypernet Loss: {avg_hypernet_loss:.4f}, Accuracy: {accuracy:.2f}%, Hypernet Accuracy: {hypernet_accuracy:.2f}%')\n",
    "    return avg_loss, avg_hypernet_loss, accuracy, hypernet_accuracy"
   ]
  },
  {
   "cell_type": "code",
   "execution_count": 9,
   "id": "1546f18c",
   "metadata": {},
   "outputs": [],
   "source": [
    "# --- Evaluating Function ---\n",
    "\n",
    "def evaluate(model, data_loader):\n",
    "    model.eval()\n",
    "    model = model.to(device)\n",
    "    \n",
    "    total_loss = 0\n",
    "    correct = 0\n",
    "    total = 0\n",
    "    with torch.no_grad():  # Disable gradient calculations during evaluation\n",
    "        for data, target in data_loader:\n",
    "            data = data.to(device)\n",
    "            target = target.to(device)\n",
    "            \n",
    "            output = model(data)\n",
    "            loss = nn.CrossEntropyLoss()(output, target)\n",
    "            total_loss += loss.item()\n",
    "            _, predicted = torch.max(output.data, 1)\n",
    "            total += target.size(0)\n",
    "            correct += (predicted == target).sum().item()\n",
    "\n",
    "    avg_loss = total_loss / len(data_loader)\n",
    "    accuracy = 100. * correct / total\n",
    "    return avg_loss, accuracy"
   ]
  },
  {
   "cell_type": "code",
   "execution_count": 10,
   "id": "20b630e3",
   "metadata": {},
   "outputs": [],
   "source": [
    "# --- Testing Function ---\n",
    "\n",
    "def test(model, test_loader):\n",
    "    test_loss, test_accuracy = evaluate(model, test_loader)\n",
    "    print(f'Test set: Average loss: {test_loss:.4f}, Accuracy: {test_accuracy:.2f}%')"
   ]
  },
  {
   "cell_type": "code",
   "execution_count": 14,
   "id": "a493342b",
   "metadata": {},
   "outputs": [],
   "source": [
    "num_epochs = 10"
   ]
  },
  {
   "cell_type": "code",
   "execution_count": null,
   "id": "f8f0c85d",
   "metadata": {},
   "outputs": [
    {
     "name": "stdout",
     "output_type": "stream",
     "text": [
      "Starting Training...\n",
      "Train Epoch: 1 [6336/48000 (13%)]\tLoss: 0.416712. Hypernet Loss: 20.185175\n",
      "Train Epoch: 1 [12736/48000 (27%)]\tLoss: 0.449496. Hypernet Loss: 0.419802\n",
      "Train Epoch: 1 [19136/48000 (40%)]\tLoss: 0.203881. Hypernet Loss: 2.302585\n",
      "Train Epoch: 1 [25536/48000 (53%)]\tLoss: 0.264975. Hypernet Loss: 0.282061\n",
      "Train Epoch: 1 [31936/48000 (67%)]\tLoss: 0.796504. Hypernet Loss: 0.485085\n",
      "Train Epoch: 1 [38336/48000 (80%)]\tLoss: 0.347642. Hypernet Loss: 0.200857\n",
      "Train Epoch: 1 [44736/48000 (93%)]\tLoss: 0.747107. Hypernet Loss: 0.441840\n",
      "Train Epoch: 1 Average Loss: 0.5199, Average Hypernet Loss: 44.6137, Accuracy: 87.22%, Hypernet Accuracy: 75.58%\n",
      "Validation Epoch: 1 Average Loss: 0.5403, Accuracy: 87.55%\n",
      "Hypernet Validation Epoch: 1 Average Loss: 1.1493, Accuracy: 64.64%\n",
      "Train Epoch: 2 [6336/48000 (13%)]\tLoss: 0.878018. Hypernet Loss: 2.302585\n",
      "Train Epoch: 2 [12736/48000 (27%)]\tLoss: 0.198992. Hypernet Loss: 0.197984\n",
      "Train Epoch: 2 [19136/48000 (40%)]\tLoss: 0.360891. Hypernet Loss: 2.302585\n",
      "Train Epoch: 2 [25536/48000 (53%)]\tLoss: 0.541378. Hypernet Loss: 0.837001\n",
      "Train Epoch: 2 [31936/48000 (67%)]\tLoss: 0.552501. Hypernet Loss: 2.302585\n",
      "Train Epoch: 2 [38336/48000 (80%)]\tLoss: 0.345654. Hypernet Loss: 1.714733\n",
      "Train Epoch: 2 [44736/48000 (93%)]\tLoss: 0.305808. Hypernet Loss: 2.542133\n",
      "Train Epoch: 2 Average Loss: 0.4854, Average Hypernet Loss: 592.7261, Accuracy: 88.84%, Hypernet Accuracy: 68.01%\n",
      "Validation Epoch: 2 Average Loss: 0.6323, Accuracy: 86.94%\n",
      "Hypernet Validation Epoch: 2 Average Loss: 183.1502, Accuracy: 83.24%\n",
      "Train Epoch: 3 [6336/48000 (13%)]\tLoss: 0.402782. Hypernet Loss: 21581.289062\n",
      "Train Epoch: 3 [12736/48000 (27%)]\tLoss: 0.350394. Hypernet Loss: 1.266693\n",
      "Train Epoch: 3 [19136/48000 (40%)]\tLoss: 0.209147. Hypernet Loss: 338.877533\n",
      "Train Epoch: 3 [25536/48000 (53%)]\tLoss: 0.376612. Hypernet Loss: 1.329263\n",
      "Train Epoch: 3 [31936/48000 (67%)]\tLoss: 0.336662. Hypernet Loss: 2.302585\n",
      "Train Epoch: 3 [38336/48000 (80%)]\tLoss: 0.701080. Hypernet Loss: 0.383291\n",
      "Train Epoch: 3 [44736/48000 (93%)]\tLoss: 0.443632. Hypernet Loss: 0.412398\n",
      "Train Epoch: 3 Average Loss: 0.5059, Average Hypernet Loss: 356.5517, Accuracy: 88.58%, Hypernet Accuracy: 69.76%\n",
      "Validation Epoch: 3 Average Loss: 0.6392, Accuracy: 86.86%\n",
      "Hypernet Validation Epoch: 3 Average Loss: 0.4109, Accuracy: 87.96%\n",
      "Train Epoch: 4 [6336/48000 (13%)]\tLoss: 0.272759. Hypernet Loss: 0.961066\n",
      "Train Epoch: 4 [12736/48000 (27%)]\tLoss: 0.288205. Hypernet Loss: 0.479115\n",
      "Train Epoch: 4 [19136/48000 (40%)]\tLoss: 0.589876. Hypernet Loss: 0.555250\n",
      "Train Epoch: 4 [25536/48000 (53%)]\tLoss: 0.492056. Hypernet Loss: 0.423830\n",
      "Train Epoch: 4 [31936/48000 (67%)]\tLoss: 0.228495. Hypernet Loss: 1.413756\n",
      "Train Epoch: 4 [38336/48000 (80%)]\tLoss: 0.585729. Hypernet Loss: 0.840649\n",
      "Train Epoch: 4 [44736/48000 (93%)]\tLoss: 0.476508. Hypernet Loss: 1.052697\n",
      "Train Epoch: 4 Average Loss: 0.5204, Average Hypernet Loss: 13.4896, Accuracy: 88.54%, Hypernet Accuracy: 77.33%\n",
      "Validation Epoch: 4 Average Loss: 0.7421, Accuracy: 86.82%\n",
      "Hypernet Validation Epoch: 4 Average Loss: 0.7468, Accuracy: 77.01%\n",
      "Train Epoch: 5 [6336/48000 (13%)]\tLoss: 0.138442. Hypernet Loss: 7.517794\n",
      "Train Epoch: 5 [12736/48000 (27%)]\tLoss: 0.615014. Hypernet Loss: 0.368726\n",
      "Train Epoch: 5 [19136/48000 (40%)]\tLoss: 0.570620. Hypernet Loss: 28326.634766\n",
      "Train Epoch: 5 [25536/48000 (53%)]\tLoss: 0.286526. Hypernet Loss: 0.482744\n"
     ]
    }
   ],
   "source": [
    "# Initialize the model\n",
    "input_size = 28 * 28  # 784 input features (28x28 pixels)\n",
    "output_size = 10     # 10 output classes (digits 0-9)\n",
    "\n",
    "model = Classifier(input_size, output_size)\n",
    "hypernet_model = HyperNetClassifier(input_size, output_size, hidden_sizes=[1024, 512, 1024])\n",
    "\n",
    "# --- Initialize the Optimizer ---\n",
    "optimizer = optim.Adam(model.parameters(), lr=learning_rate, weight_decay=weight_decay)\n",
    "hypernet_optimizer = optim.Adam(hypernet_model.parameters(), lr=learning_rate, weight_decay=weight_decay)\n",
    "\n",
    "# --- Training and Evaluation Loop ---\n",
    "print(\"Starting Training...\")\n",
    "for epoch in range(1, num_epochs + 1):\n",
    "    _, _, _, _ = train(model, hypernet_model, train_loader, optimizer, hypernet_optimizer, epoch)\n",
    "    \n",
    "    val_loss, val_accuracy = evaluate(model, val_loader)\n",
    "    print(f'Validation Epoch: {epoch} Average Loss: {val_loss:.4f}, Accuracy: {val_accuracy:.2f}%')\n",
    "    \n",
    "    val_loss, val_accuracy = evaluate(hypernet_model, val_loader)\n",
    "    print(f'Hypernet Validation Epoch: {epoch} Average Loss: {val_loss:.4f}, Accuracy: {val_accuracy:.2f}%')"
   ]
  },
  {
   "cell_type": "code",
   "execution_count": null,
   "id": "554bd387",
   "metadata": {},
   "outputs": [
    {
     "name": "stdout",
     "output_type": "stream",
     "text": [
      "\n",
      "Starting Testing...\n",
      "Normal Model:\n",
      "Test set: Average loss: 0.5011, Accuracy: 89.05%\n",
      "Hypernet Model:\n",
      "Test set: Average loss: 1172.1804, Accuracy: 73.84%\n"
     ]
    }
   ],
   "source": [
    "# --- Testing the Model ---\n",
    "print(\"\\nStarting Testing...\")\n",
    "\n",
    "print(\"Normal Model:\")\n",
    "test(model, test_loader)\n",
    "\n",
    "print(\"Hypernet Model:\")\n",
    "test(hypernet_model, test_loader)"
   ]
  }
 ],
 "metadata": {
  "kernelspec": {
   "display_name": ".venv",
   "language": "python",
   "name": "python3"
  },
  "language_info": {
   "codemirror_mode": {
    "name": "ipython",
    "version": 3
   },
   "file_extension": ".py",
   "mimetype": "text/x-python",
   "name": "python",
   "nbconvert_exporter": "python",
   "pygments_lexer": "ipython3",
   "version": "3.10.11"
  }
 },
 "nbformat": 4,
 "nbformat_minor": 5
}
