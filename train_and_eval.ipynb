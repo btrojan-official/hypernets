{
 "cells": [
  {
   "cell_type": "code",
   "execution_count": 1,
   "id": "b22c88ba",
   "metadata": {},
   "outputs": [],
   "source": [
    "import torch\n",
    "import torch.optim as optim\n",
    "\n",
    "from utils.MNIST_loaders import MNIST_loaders\n",
    "\n",
    "from functions.train import train\n",
    "from functions.evaluate import evaluate\n",
    "\n",
    "from models.HypernetClassifier import HyperNetClassifier\n",
    "from models.Classifier import Classifier"
   ]
  },
  {
   "cell_type": "code",
   "execution_count": null,
   "id": "d0e57248",
   "metadata": {},
   "outputs": [],
   "source": [
    "# --- Hyperparameters (things you can easily change!) ---\n",
    "num_epochs = 5\n",
    "batch_size = 64\n",
    "weight_decay = 0.001\n",
    "validation_split = 0.2  # Part of the training data to use for validation\n",
    "random_seed = 42\n",
    "n_bins = 10 # Number of bins for calculating ECE\n",
    "input_size = 28 * 28\n",
    "output_size = 10\n",
    "\n",
    "learning_rate = 0.0001\n",
    "optimizer = 'Adam'\n",
    "hidden_size = [256, 128, 256]\n",
    "zeroed_weights_in_baseline = 0.0 #! Here we don't zero out any weights\n",
    "hypernet_ensemble_num = 1\n",
    "use_previous_weights = True"
   ]
  },
  {
   "cell_type": "code",
   "execution_count": 11,
   "id": "54f26b34",
   "metadata": {},
   "outputs": [],
   "source": [
    "torch.manual_seed(random_seed)\n",
    "\n",
    "device = torch.device('cuda' if torch.cuda.is_available() else 'cpu')"
   ]
  },
  {
   "cell_type": "code",
   "execution_count": 12,
   "id": "f8f0c85d",
   "metadata": {},
   "outputs": [
    {
     "name": "stdout",
     "output_type": "stream",
     "text": [
      "Starting Training [A: Accuracy, L: Loss, ECE: Expected Calibration Error, H: Hypernet]\n",
      "\n",
      "=== Epoch: [1|5] ========================\n",
      "Train: L: 0.9092, H_L: 0.6470, A: 77.10%, H_A: 83.42%\n",
      "Val: A: 86.86%, A_H: 89.49%, ECE: 0.15420, ECE_H: 0.00828\n",
      "\n",
      "=== Epoch: [2|5] ========================\n",
      "Train: L: 0.4563, H_L: 0.3359, A: 88.10%, H_A: 90.24%\n",
      "Val: A: 88.98%, A_H: 90.11%, ECE: 0.09058, ECE_H: 0.00530\n",
      "\n",
      "=== Epoch: [3|5] ========================\n",
      "Train: L: 0.3820, H_L: 0.3185, A: 89.61%, H_A: 90.78%\n",
      "Val: A: 89.91%, A_H: 90.61%, ECE: 0.06662, ECE_H: 0.01017\n",
      "\n",
      "=== Epoch: [4|5] ========================\n",
      "Train: L: 0.3486, H_L: 0.3092, A: 90.34%, H_A: 91.25%\n",
      "Val: A: 90.57%, A_H: 91.33%, ECE: 0.05517, ECE_H: 0.01752\n",
      "\n",
      "=== Epoch: [5|5] ========================\n",
      "Train: L: 0.3290, H_L: 0.2997, A: 90.79%, H_A: 91.31%\n",
      "Val: A: 90.75%, A_H: 90.91%, ECE: 0.04549, ECE_H: 0.01498\n"
     ]
    }
   ],
   "source": [
    "model = Classifier(input_size, output_size, zeroed_weights_fraction=zeroed_weights_in_baseline)\n",
    "hypernet_model = HyperNetClassifier(input_size, output_size, hidden_sizes=hidden_size, device=device, use_previous_weights=use_previous_weights, ensemble_num=hypernet_ensemble_num)\n",
    "\n",
    "if optimizer == 'SGD':\n",
    "    optimizer = optim.SGD(model.parameters(), lr=learning_rate, weight_decay=weight_decay)\n",
    "    hypernet_optimizer = optim.SGD(hypernet_model.parameters(), lr=learning_rate, weight_decay=weight_decay)\n",
    "else:\n",
    "    optimizer = optim.Adam(model.parameters(), lr=learning_rate, weight_decay=weight_decay)\n",
    "    hypernet_optimizer = optim.Adam(hypernet_model.parameters(), lr=learning_rate, weight_decay=weight_decay)\n",
    "    \n",
    "train_loader, val_loader, test_loader = MNIST_loaders()\n",
    "\n",
    "print(\"Starting Training [A: Accuracy, L: Loss, ECE: Expected Calibration Error, H: Hypernet]\")\n",
    "for epoch in range(1, num_epochs + 1):\n",
    "    \n",
    "    print(f\"\\n=== Epoch: [{epoch}|{num_epochs}] ========================\")\n",
    "    \n",
    "    avg_loss, avg_hypernet_loss, accuracy, hypernet_accuracy = train(model, hypernet_model, train_loader, optimizer, hypernet_optimizer, device=device)\n",
    "    print(f'Train: L: {avg_loss:.4f}, H_L: {avg_hypernet_loss:.4f}, A: {accuracy:.2f}%, H_A: {hypernet_accuracy:.2f}%')\n",
    "    \n",
    "    val_accuracy, ece = evaluate(model, val_loader, n_bins=n_bins, device=device)\n",
    "    hypernet_val_accuracy, hypernet_ece = evaluate(hypernet_model, val_loader, device=device)\n",
    "    print(f'Val: A: {val_accuracy:.2f}%, A_H: {hypernet_val_accuracy:.2f}%, ECE: {ece:.5f}, ECE_H: {hypernet_ece:.5f}')"
   ]
  },
  {
   "cell_type": "code",
   "execution_count": 13,
   "id": "554bd387",
   "metadata": {},
   "outputs": [
    {
     "name": "stdout",
     "output_type": "stream",
     "text": [
      "\n",
      "Starting Testing...\n",
      "Normal Model:\n",
      "Test set: Accuracy: 91.31%, ECE: 0.04334\n",
      "Hypernet Model:\n",
      "Test set: Accuracy: 91.07%, ECE: 0.01071\n"
     ]
    }
   ],
   "source": [
    "# --- Testing the Model ---\n",
    "print(\"\\nStarting Testing...\")\n",
    "\n",
    "print(\"Normal Model:\")\n",
    "test_accuracy, ece = evaluate(model, test_loader, n_bins=n_bins, device=device)\n",
    "print(f'Test set: Accuracy: {test_accuracy:.2f}%, ECE: {ece:.5f}')\n",
    "\n",
    "print(\"Hypernet Model:\")\n",
    "test_accuracy, ece = evaluate(hypernet_model, test_loader, n_bins=n_bins, device=device)\n",
    "print(f'Test set: Accuracy: {test_accuracy:.2f}%, ECE: {ece:.5f}')"
   ]
  }
 ],
 "metadata": {
  "kernelspec": {
   "display_name": ".venv",
   "language": "python",
   "name": "python3"
  },
  "language_info": {
   "codemirror_mode": {
    "name": "ipython",
    "version": 3
   },
   "file_extension": ".py",
   "mimetype": "text/x-python",
   "name": "python",
   "nbconvert_exporter": "python",
   "pygments_lexer": "ipython3",
   "version": "3.10.11"
  }
 },
 "nbformat": 4,
 "nbformat_minor": 5
}
